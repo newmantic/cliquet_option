{
  "nbformat": 4,
  "nbformat_minor": 0,
  "metadata": {
    "colab": {
      "provenance": [],
      "authorship_tag": "ABX9TyMHs35M7LeNxOFsKE9bvbY0",
      "include_colab_link": true
    },
    "kernelspec": {
      "name": "python3",
      "display_name": "Python 3"
    },
    "language_info": {
      "name": "python"
    }
  },
  "cells": [
    {
      "cell_type": "markdown",
      "metadata": {
        "id": "view-in-github",
        "colab_type": "text"
      },
      "source": [
        "<a href=\"https://colab.research.google.com/github/newmantic/cliquet_option/blob/main/cliquet_option.ipynb\" target=\"_parent\"><img src=\"https://colab.research.google.com/assets/colab-badge.svg\" alt=\"Open In Colab\"/></a>"
      ]
    },
    {
      "cell_type": "code",
      "execution_count": 1,
      "metadata": {
        "colab": {
          "base_uri": "https://localhost:8080/"
        },
        "id": "MuU22V5DhNvx",
        "outputId": "a1944304-8e0a-4d65-e60a-820b25300dd1"
      },
      "outputs": [
        {
          "output_type": "stream",
          "name": "stdout",
          "text": [
            "Payoff for Cliquet Call Option: 25.00\n",
            "Payoff for Cliquet Put Option: 2.50\n"
          ]
        }
      ],
      "source": [
        "import numpy as np\n",
        "\n",
        "class CliquetOption:\n",
        "    def __init__(self, initial_strike, is_call=True, cap=None, floor=None):\n",
        "        \"\"\"\n",
        "        Initializes the Cliquet (Ratchet) Option.\n",
        "\n",
        "        :param initial_strike: The initial strike price of the option\n",
        "        :param is_call: True for Call option, False for Put option\n",
        "        :param cap: Maximum payoff per reset period (None for no cap)\n",
        "        :param floor: Minimum payoff per reset period (None for no floor)\n",
        "        \"\"\"\n",
        "        self.initial_strike = initial_strike\n",
        "        self.is_call = is_call\n",
        "        self.cap = cap\n",
        "        self.floor = floor\n",
        "\n",
        "    def calculate_payoff(self, price_path, reset_intervals):\n",
        "        \"\"\"\n",
        "        Calculates the cumulative payoff of the Cliquet Option.\n",
        "\n",
        "        :param price_path: A list or array of prices\n",
        "        :param reset_intervals: A list of reset intervals (e.g., indices in the price path where resets occur)\n",
        "        :return: The cumulative payoff amount\n",
        "        \"\"\"\n",
        "        strike = self.initial_strike\n",
        "        total_payoff = 0.0\n",
        "\n",
        "        for i in range(1, len(reset_intervals)):\n",
        "            start_price = price_path[reset_intervals[i-1]]\n",
        "            end_price = price_path[reset_intervals[i]]\n",
        "\n",
        "            if self.is_call:\n",
        "                payoff = max(end_price - start_price, 0)\n",
        "            else:\n",
        "                payoff = max(start_price - end_price, 0)\n",
        "\n",
        "            if self.cap is not None:\n",
        "                payoff = min(payoff, self.cap)\n",
        "            if self.floor is not None:\n",
        "                payoff = max(payoff, self.floor)\n",
        "\n",
        "            total_payoff += payoff\n",
        "            strike = end_price  # Reset strike to the new price\n",
        "\n",
        "        return total_payoff\n",
        "\n",
        "# Example usage\n",
        "if __name__ == \"__main__\":\n",
        "    # Simulated price path (e.g., daily prices over a period)\n",
        "    price_path = np.array([100, 102, 105, 107, 110, 112, 115, 117, 120, 125])\n",
        "\n",
        "    # Reset intervals (e.g., every two days)\n",
        "    reset_intervals = [0, 2, 4, 6, 8, 9]  # Assuming resets at these indices\n",
        "\n",
        "    # Example 1: Cliquet Call Option with no cap or floor\n",
        "    option1 = CliquetOption(\n",
        "        initial_strike=100,\n",
        "        is_call=True,\n",
        "        cap=None,\n",
        "        floor=None\n",
        "    )\n",
        "    payoff1 = option1.calculate_payoff(price_path, reset_intervals)\n",
        "    print(f\"Payoff for Cliquet Call Option: {payoff1:.2f}\")\n",
        "\n",
        "    # Example 2: Cliquet Put Option with a cap of 2 and a floor of 0.5\n",
        "    option2 = CliquetOption(\n",
        "        initial_strike=100,\n",
        "        is_call=False,\n",
        "        cap=2.0,\n",
        "        floor=0.5\n",
        "    )\n",
        "    payoff2 = option2.calculate_payoff(price_path, reset_intervals)\n",
        "    print(f\"Payoff for Cliquet Put Option: {payoff2:.2f}\")"
      ]
    }
  ]
}